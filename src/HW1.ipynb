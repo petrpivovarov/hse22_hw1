{
 "cells": [
  {
   "cell_type": "code",
   "execution_count": 13,
   "id": "4c52a520",
   "metadata": {},
   "outputs": [],
   "source": [
    "def count(file):\n",
    "    length = 0\n",
    "    count = 0\n",
    "    a = open(file, 'r')\n",
    "    b = []\n",
    "    for i in a.readlines():\n",
    "        if i[0] == '>':\n",
    "            count += 1\n",
    "            start = i.find('len') + 3\n",
    "            finish = i.find('cov') - 1\n",
    "            l = int(i[start:finish])\n",
    "            length += l\n",
    "            b.append(l)\n",
    "    a.close()\n",
    "    b.sort(reverse = True)\n",
    "    t = 0\n",
    "    for i in b:\n",
    "        t += i\n",
    "        if t >= length / 2:\n",
    "            print('Общее количество -',count,'\\nОбщая длина - ',length, '\\nСамый длинный - ', b[0], '\\nN50 -', i)\n",
    "            break\n",
    "    return b[0], count, length, i"
   ]
  },
  {
   "cell_type": "code",
   "execution_count": 14,
   "id": "b2f4a98d",
   "metadata": {},
   "outputs": [],
   "source": [
    "file = 'C:/anaconda/Poil_contig.fa'"
   ]
  },
  {
   "cell_type": "code",
   "execution_count": 15,
   "id": "17a9bfca",
   "metadata": {},
   "outputs": [
    {
     "name": "stdout",
     "output_type": "stream",
     "text": [
      "Общее количество - 592 \n",
      "Общая длина -  3922783 \n",
      "Самый длинный -  179307 \n",
      "N50 - 54904\n"
     ]
    },
    {
     "data": {
      "text/plain": [
       "(179307, 592, 3922783, 54904)"
      ]
     },
     "execution_count": 15,
     "metadata": {},
     "output_type": "execute_result"
    }
   ],
   "source": [
    "count(file)"
   ]
  },
  {
   "cell_type": "code",
   "execution_count": 16,
   "id": "37d82de2",
   "metadata": {},
   "outputs": [],
   "source": [
    "q = 'C:/anaconda/Poil_scaffold.fa'"
   ]
  },
  {
   "cell_type": "code",
   "execution_count": 17,
   "id": "051355b4",
   "metadata": {},
   "outputs": [
    {
     "name": "stdout",
     "output_type": "stream",
     "text": [
      "Общее количество - 69 \n",
      "Общая длина -  3872501 \n",
      "Самый длинный -  3833133 \n",
      "N50 - 3833133\n"
     ]
    }
   ],
   "source": [
    "maxlen,b,c,d = count(q)"
   ]
  },
  {
   "cell_type": "code",
   "execution_count": 18,
   "id": "1c4ef261",
   "metadata": {},
   "outputs": [],
   "source": [
    "n = open(q, 'r')\n",
    "seq =''\n",
    "k = open('longestscaffold.fa', 'w')\n",
    "\n",
    "for i in n.readlines():\n",
    "    if i[0] == '>':\n",
    "        start = i.find('len') + 3\n",
    "        finish = i.find('cov') - 1\n",
    "        l = int(i[start:finish])\n",
    "    if l == maxlen:\n",
    "        k.write(i)\n",
    "        \n",
    "            "
   ]
  },
  {
   "cell_type": "code",
   "execution_count": 28,
   "id": "c2bdb01e",
   "metadata": {},
   "outputs": [
    {
     "name": "stdout",
     "output_type": "stream",
     "text": [
      "Число гепов -  139\n",
      "Общая длина гепов -  6024\n"
     ]
    }
   ],
   "source": [
    "g = open('longestscaffold.fa', 'r')\n",
    "n = 0\n",
    "j = 0\n",
    "h = 0\n",
    "s=''\n",
    "b = g.read(1)\n",
    "for i in range(3865187):\n",
    "    if b == 'N':\n",
    "        n += 1\n",
    "    b = a    \n",
    "    a = g.read(1)\n",
    "    if b == \"N\" and a != \"N\":\n",
    "        h += 1\n",
    "print('Число гепов - ',h)\n",
    "print(\"Общая длина гепов - \", n)\n",
    "            \n",
    "    "
   ]
  },
  {
   "cell_type": "code",
   "execution_count": 29,
   "id": "5b02e822",
   "metadata": {},
   "outputs": [],
   "source": [
    "v = 'C:/anaconda/Poil_gapClosed.fa'"
   ]
  },
  {
   "cell_type": "code",
   "execution_count": 41,
   "id": "deeb9446",
   "metadata": {},
   "outputs": [
    {
     "name": "stdout",
     "output_type": "stream",
     "text": [
      "Общее число - 69 \n",
      "Общая длина -  3963828 \n",
      "Самый длинный -  3923615 \n",
      "N50 -  3923615\n"
     ]
    }
   ],
   "source": [
    "g = open('C:/anaconda/Poil_gapClosed.fa', 'r')\n",
    "n = 0\n",
    "j = 0\n",
    "h = 0\n",
    "curseq = ''\n",
    "maxseq = ''\n",
    "curlen = 0\n",
    "maxlen = 0\n",
    "comlen = 0\n",
    "a=[]\n",
    "for i in g.readlines():\n",
    "    if i[0] == '>':\n",
    "        n += 1\n",
    "        if curlen > maxlen:\n",
    "            maxlen = curlen\n",
    "            maxseq = curseq\n",
    "            a.append(curlen)\n",
    "            curlen = 0\n",
    "            curseq = ''\n",
    "            \n",
    "    else:\n",
    "        curseq += i.strip()\n",
    "        comlen += len(i)\n",
    "        curlen += len(i)\n",
    "a.sort(reverse = True)\n",
    "t = 0\n",
    "for i in a:\n",
    "    t+=i\n",
    "    if t > comlen / 2:\n",
    "        break\n",
    "itog = open('longest.fa', 'w')\n",
    "itog.write(maxseq)\n",
    "print('Общее число -', n, '\\nОбщая длина - ', comlen, '\\nСамый длинный - ', maxlen, '\\nN50 - ', t)\n",
    "        "
   ]
  },
  {
   "cell_type": "code",
   "execution_count": 42,
   "id": "e968568d",
   "metadata": {},
   "outputs": [
    {
     "name": "stdout",
     "output_type": "stream",
     "text": [
      "Число гепов -  8\n",
      "Общая длина гепов -  1188\n"
     ]
    }
   ],
   "source": [
    "g = open('longest.fa', 'r')\n",
    "n = 0\n",
    "j = 0\n",
    "h = 0\n",
    "s=''\n",
    "b = g.read(1)\n",
    "for i in range(3923615):\n",
    "    if b == 'N':\n",
    "        n += 1\n",
    "    b = a    \n",
    "    a = g.read(1)\n",
    "    if b == \"N\" and a != \"N\":\n",
    "        h += 1\n",
    "print('Число гепов - ',h)\n",
    "print(\"Общая длина гепов - \", n)\n",
    "    "
   ]
  },
  {
   "cell_type": "code",
   "execution_count": null,
   "id": "ba6cdddb",
   "metadata": {},
   "outputs": [],
   "source": []
  }
 ],
 "metadata": {
  "kernelspec": {
   "display_name": "Python 3 (ipykernel)",
   "language": "python",
   "name": "python3"
  },
  "language_info": {
   "codemirror_mode": {
    "name": "ipython",
    "version": 3
   },
   "file_extension": ".py",
   "mimetype": "text/x-python",
   "name": "python",
   "nbconvert_exporter": "python",
   "pygments_lexer": "ipython3",
   "version": "3.9.12"
  }
 },
 "nbformat": 4,
 "nbformat_minor": 5
}
